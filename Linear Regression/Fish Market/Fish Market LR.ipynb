{
 "cells": [
  {
   "cell_type": "code",
   "execution_count": 1,
   "metadata": {},
   "outputs": [
    {
     "data": {
      "text/html": [
       "<div>\n",
       "<style scoped>\n",
       "    .dataframe tbody tr th:only-of-type {\n",
       "        vertical-align: middle;\n",
       "    }\n",
       "\n",
       "    .dataframe tbody tr th {\n",
       "        vertical-align: top;\n",
       "    }\n",
       "\n",
       "    .dataframe thead th {\n",
       "        text-align: right;\n",
       "    }\n",
       "</style>\n",
       "<table border=\"1\" class=\"dataframe\">\n",
       "  <thead>\n",
       "    <tr style=\"text-align: right;\">\n",
       "      <th></th>\n",
       "      <th>Weight</th>\n",
       "      <th>Length1</th>\n",
       "      <th>Length2</th>\n",
       "      <th>Length3</th>\n",
       "      <th>Height</th>\n",
       "      <th>Width</th>\n",
       "    </tr>\n",
       "  </thead>\n",
       "  <tbody>\n",
       "    <tr>\n",
       "      <td>0</td>\n",
       "      <td>242.0</td>\n",
       "      <td>23.2</td>\n",
       "      <td>25.4</td>\n",
       "      <td>30.0</td>\n",
       "      <td>11.5200</td>\n",
       "      <td>4.0200</td>\n",
       "    </tr>\n",
       "    <tr>\n",
       "      <td>1</td>\n",
       "      <td>290.0</td>\n",
       "      <td>24.0</td>\n",
       "      <td>26.3</td>\n",
       "      <td>31.2</td>\n",
       "      <td>12.4800</td>\n",
       "      <td>4.3056</td>\n",
       "    </tr>\n",
       "    <tr>\n",
       "      <td>2</td>\n",
       "      <td>340.0</td>\n",
       "      <td>23.9</td>\n",
       "      <td>26.5</td>\n",
       "      <td>31.1</td>\n",
       "      <td>12.3778</td>\n",
       "      <td>4.6961</td>\n",
       "    </tr>\n",
       "    <tr>\n",
       "      <td>3</td>\n",
       "      <td>363.0</td>\n",
       "      <td>26.3</td>\n",
       "      <td>29.0</td>\n",
       "      <td>33.5</td>\n",
       "      <td>12.7300</td>\n",
       "      <td>4.4555</td>\n",
       "    </tr>\n",
       "    <tr>\n",
       "      <td>4</td>\n",
       "      <td>430.0</td>\n",
       "      <td>26.5</td>\n",
       "      <td>29.0</td>\n",
       "      <td>34.0</td>\n",
       "      <td>12.4440</td>\n",
       "      <td>5.1340</td>\n",
       "    </tr>\n",
       "  </tbody>\n",
       "</table>\n",
       "</div>"
      ],
      "text/plain": [
       "   Weight  Length1  Length2  Length3   Height   Width\n",
       "0   242.0     23.2     25.4     30.0  11.5200  4.0200\n",
       "1   290.0     24.0     26.3     31.2  12.4800  4.3056\n",
       "2   340.0     23.9     26.5     31.1  12.3778  4.6961\n",
       "3   363.0     26.3     29.0     33.5  12.7300  4.4555\n",
       "4   430.0     26.5     29.0     34.0  12.4440  5.1340"
      ]
     },
     "execution_count": 1,
     "metadata": {},
     "output_type": "execute_result"
    }
   ],
   "source": [
    "import pandas as pd\n",
    "import seaborn as sns\n",
    "import matplotlib.pyplot as plt\n",
    "\n",
    "df = pd.read_csv('fish.csv')\n",
    "df = df[[ 'Weight', 'Length1', 'Length2', 'Length3', 'Height', 'Width']]\n",
    "df.head()"
   ]
  },
  {
   "cell_type": "code",
   "execution_count": 2,
   "metadata": {},
   "outputs": [],
   "source": [
    "#type of fish\n",
    "#set(df[\"Species\"])"
   ]
  },
  {
   "cell_type": "markdown",
   "metadata": {},
   "source": [
    "Objective: \n",
    "\n",
    "1 - To predict the weight of the fish (linear regression)\n",
    "\n",
    "2 - To predict the type of the fish (classification)"
   ]
  },
  {
   "cell_type": "code",
   "execution_count": 3,
   "metadata": {},
   "outputs": [
    {
     "data": {
      "text/plain": [
       "Weight     0\n",
       "Length1    0\n",
       "Length2    0\n",
       "Length3    0\n",
       "Height     0\n",
       "Width      0\n",
       "dtype: int64"
      ]
     },
     "execution_count": 3,
     "metadata": {},
     "output_type": "execute_result"
    }
   ],
   "source": [
    "# checking null value in data \n",
    "df.isnull().sum()"
   ]
  },
  {
   "cell_type": "code",
   "execution_count": 4,
   "metadata": {},
   "outputs": [
    {
     "data": {
      "text/plain": [
       "Index(['Weight', 'Length1', 'Length2', 'Length3', 'Height', 'Width'], dtype='object')"
      ]
     },
     "execution_count": 4,
     "metadata": {},
     "output_type": "execute_result"
    }
   ],
   "source": [
    "df.columns"
   ]
  },
  {
   "cell_type": "code",
   "execution_count": 5,
   "metadata": {},
   "outputs": [
    {
     "data": {
      "text/plain": [
       "(159, 6)"
      ]
     },
     "execution_count": 5,
     "metadata": {},
     "output_type": "execute_result"
    }
   ],
   "source": [
    "df.shape"
   ]
  },
  {
   "cell_type": "code",
   "execution_count": 16,
   "metadata": {},
   "outputs": [
    {
     "data": {
      "image/png": "[encoded data removed]",
      "text/plain": [
       "<Figure size 432x288 with 1 Axes>"
      ]
     },
     "metadata": {
      "needs_background": "light"
     },
     "output_type": "display_data"
    }
   ],
   "source": [
    "fig, ax = plt.subplots()\n",
    "ax.scatter( x= df['Height'], y = df['Weight'])\n",
    "plt.xlabel(\"Height\")\n",
    "plt.ylabel(\"Wight\")\n",
    "\n",
    "plt.show()"
   ]
  },
  {
   "cell_type": "code",
   "execution_count": 7,
   "metadata": {},
   "outputs": [
    {
     "data": {
      "image/png": "[encoded data removed]",
      "text/plain": [
       "<Figure size 432x288 with 1 Axes>"
      ]
     },
     "metadata": {
      "needs_background": "light"
     },
     "output_type": "display_data"
    }
   ],
   "source": [
    "fig, ax = plt.subplots()\n",
    "ax.scatter( x= df['Height'], y = df['Width'])\n",
    "plt.xlabel(\"Height\")\n",
    "plt.ylabel(\"Width\")\n",
    "\n",
    "plt.show()"
   ]
  },
  {
   "cell_type": "code",
   "execution_count": 9,
   "metadata": {},
   "outputs": [
    {
     "name": "stdout",
     "output_type": "stream",
     "text": [
      "mu = 398.3264150943396 and sigma = 356.8508229894959\n"
     ]
    },
    {
     "data": {
      "text/plain": [
       "<matplotlib.legend.Legend at 0x1a573d8e388>"
      ]
     },
     "execution_count": 9,
     "metadata": {},
     "output_type": "execute_result"
    },
    {
     "data": {
      "image/png": "[encoded data removed]",
      "text/plain": [
       "<Figure size 432x288 with 1 Axes>"
      ]
     },
     "metadata": {
      "needs_background": "light"
     },
     "output_type": "display_data"
    }
   ],
   "source": [
    "from scipy import stats\n",
    "from scipy.stats import norm, skew\n",
    "\n",
    "sns.distplot(df['Weight'], fit = norm)\n",
    "(mu, sigma)= norm.fit(df['Weight'])\n",
    "print(\"mu = {} and sigma = {}\".format(mu,sigma))\n",
    "\n",
    "plt.legend([\"$\\mu$ = {:.2f} and $\\sigma$ = {:.2f}\".format(mu,sigma)])"
   ]
  },
  {
   "cell_type": "code",
   "execution_count": 10,
   "metadata": {},
   "outputs": [
    {
     "name": "stdout",
     "output_type": "stream",
     "text": [
      "Skewness: 1.10 \n",
      " Kurtosis: 0.88\n"
     ]
    }
   ],
   "source": [
    "df_skew = \"Skewness: {:.2f}\".format(df['Weight'].skew())\n",
    "df_kurtosis = \"Kurtosis: {:.2f}\".format(df[\"Weight\"].kurt())\n",
    "\n",
    "print(df_skew, \"\\n\", df_kurtosis)"
   ]
  },
  {
   "cell_type": "markdown",
   "metadata": {},
   "source": [
    "Data Correlation"
   ]
  },
  {
   "cell_type": "code",
   "execution_count": 11,
   "metadata": {},
   "outputs": [
    {
     "data": {
      "image/png": "[encoded data removed]",
      "text/plain": [
       "<Figure size 720x720 with 2 Axes>"
      ]
     },
     "metadata": {
      "needs_background": "light"
     },
     "output_type": "display_data"
    }
   ],
   "source": [
    "plt.figure(figsize = (10, 10))\n",
    "corr = df.corr()\n",
    "sns.heatmap(corr, annot=True, cmap = plt.cm.PuBu)\n",
    "plt.show()\n"
   ]
  },
  {
   "cell_type": "markdown",
   "metadata": {},
   "source": [
    "### Model Building\n"
   ]
  },
  {
   "cell_type": "code",
   "execution_count": 12,
   "metadata": {},
   "outputs": [],
   "source": [
    "from sklearn.model_selection  import train_test_split\n",
    "\n",
    "X = df.drop('Weight', axis = 1)\n",
    "y = df['Weight']\n",
    "\n",
    "X_train, X_test, y_train, y_test = train_test_split(X, y, test_size = 0.2, random_state = 42)"
   ]
  },
  {
   "cell_type": "code",
   "execution_count": 13,
   "metadata": {},
   "outputs": [
    {
     "name": "stdout",
     "output_type": "stream",
     "text": [
      "(127, 5)\n",
      "(32, 5)\n",
      "(127,)\n",
      "(32,)\n"
     ]
    }
   ],
   "source": [
    "print(X_train.shape)\n",
    "print(X_test.shape)\n",
    "print(y_train.shape)\n",
    "print(y_test.shape)"
   ]
  },
  {
   "cell_type": "code",
   "execution_count": 14,
   "metadata": {},
   "outputs": [
    {
     "data": {
      "text/plain": [
       "LinearRegression()"
      ]
     },
     "execution_count": 14,
     "metadata": {},
     "output_type": "execute_result"
    }
   ],
   "source": [
    "from sklearn.linear_model import LinearRegression\n",
    "\n",
    "lr = LinearRegression()\n",
    "\n",
    "lr.fit(X_train, y_train)"
   ]
  },
  {
   "cell_type": "code",
   "execution_count": 69,
   "metadata": {},
   "outputs": [
    {
     "name": "stdout",
     "output_type": "stream",
     "text": [
      "actual value: 78.0\n",
      "Model predicted value:  77.68563316842949\n"
     ]
    }
   ],
   "source": [
    "y_test = np.array(y_test) # sckitlearn expect an numpy array from this\n",
    "y_pred = lr.predict(X_test)\n",
    "\n",
    "print (\"actual value:\", y_test[0])\n",
    "print(\"Model predicted value: \", y_pred[0])"
   ]
  },
  {
   "cell_type": "code",
   "execution_count": 73,
   "metadata": {},
   "outputs": [
    {
     "name": "stdout",
     "output_type": "stream",
     "text": [
      "Act val: 78.0 \n",
      "Model predict: 77.69\n",
      "\n",
      "Act val: 13.4 \n",
      "Model predict: -159.12\n",
      "\n",
      "Act val: 200.0 \n",
      "Model predict: 385.17\n",
      "\n",
      "Act val: 270.0 \n",
      "Model predict: 300.26\n",
      "\n",
      "Act val: 150.0 \n",
      "Model predict: 179.41\n",
      "\n",
      "Act val: 1000.0 \n",
      "Model predict: 775.67\n",
      "\n",
      "Act val: 7.0 \n",
      "Model predict: -214.43\n",
      "\n",
      "Act val: 180.0 \n",
      "Model predict: 274.91\n",
      "\n",
      "Act val: 188.0 \n",
      "Model predict: 268.45\n",
      "\n",
      "Act val: 1250.0 \n",
      "Model predict: 1116.01\n",
      "\n",
      "Act val: 650.0 \n",
      "Model predict: 610.12\n",
      "\n",
      "Act val: 1000.0 \n",
      "Model predict: 786.34\n",
      "\n",
      "Act val: 600.0 \n",
      "Model predict: 585.02\n",
      "\n",
      "Act val: 150.0 \n",
      "Model predict: 172.12\n",
      "\n",
      "Act val: 700.0 \n",
      "Model predict: 652.86\n",
      "\n",
      "Act val: 920.0 \n",
      "Model predict: 785.41\n",
      "\n",
      "Act val: 1000.0 \n",
      "Model predict: 926.40\n",
      "\n",
      "Act val: 218.0 \n",
      "Model predict: 351.83\n",
      "\n",
      "Act val: 225.0 \n",
      "Model predict: 256.32\n",
      "\n",
      "Act val: 700.0 \n",
      "Model predict: 587.20\n",
      "\n",
      "Act val: 10.0 \n",
      "Model predict: -175.75\n",
      "\n",
      "Act val: 610.0 \n",
      "Model predict: 619.15\n",
      "\n",
      "Act val: 500.0 \n",
      "Model predict: 516.45\n",
      "\n",
      "Act val: 500.0 \n",
      "Model predict: 515.99\n",
      "\n",
      "Act val: 955.0 \n",
      "Model predict: 788.65\n",
      "\n",
      "Act val: 1100.0 \n",
      "Model predict: 909.01\n",
      "\n",
      "Act val: 170.0 \n",
      "Model predict: 219.68\n",
      "\n",
      "Act val: 270.0 \n",
      "Model predict: 305.35\n",
      "\n",
      "Act val: 6.7 \n",
      "Model predict: -237.80\n",
      "\n",
      "Act val: 9.9 \n",
      "Model predict: -178.94\n",
      "\n",
      "Act val: 510.0 \n",
      "Model predict: 688.58\n",
      "\n",
      "Act val: 70.0 \n",
      "Model predict: 23.24\n",
      "\n"
     ]
    }
   ],
   "source": [
    "for k, j in zip(y_test, y_pred):\n",
    "    print (\"Act val: {}\".format(k), \"\\nModel predict: {:.2f}\\n\".format(j))"
   ]
  },
  {
   "cell_type": "code",
   "execution_count": 46,
   "metadata": {},
   "outputs": [
    {
     "name": "stdout",
     "output_type": "stream",
     "text": [
      "[ 43.5352649    7.82179624 -25.25670105  23.2289123   27.06649294]\n"
     ]
    }
   ],
   "source": [
    "print(lr.coef_) # theta (weight) value"
   ]
  },
  {
   "cell_type": "markdown",
   "metadata": {},
   "source": [
    "Weight = 43.5352649*(Length1) + 7.82179624*('Length2') + -25.25670105*('Length3') + 23.2289123* ('Height') + 27.06649294*('Width')"
   ]
  },
  {
   "cell_type": "code",
   "execution_count": 68,
   "metadata": {},
   "outputs": [
    {
     "name": "stdout",
     "output_type": "stream",
     "text": [
      "Index(['Length1', 'Length2', 'Length3', 'Height', 'Width'], dtype='object')\n"
     ]
    }
   ],
   "source": [
    "print(X.columns)"
   ]
  },
  {
   "cell_type": "code",
   "execution_count": 59,
   "metadata": {},
   "outputs": [
    {
     "name": "stdout",
     "output_type": "stream",
     "text": [
      "16763.88719314075\n"
     ]
    }
   ],
   "source": [
    "from sklearn.metrics import mean_squared_error\n",
    "\n",
    "# checking the quality of theta (weight) value\n",
    "print(mean_squared_error(y_test, y_pred))\n",
    "\n",
    "# analysis\n",
    "# bad value"
   ]
  },
  {
   "cell_type": "code",
   "execution_count": 62,
   "metadata": {},
   "outputs": [
    {
     "data": {
      "text/plain": [
       "<AxesSubplot:>"
      ]
     },
     "execution_count": 62,
     "metadata": {},
     "output_type": "execute_result"
    },
    {
     "data": {
      "image/png": "[encoded data removed]",
      "text/plain": [
       "<Figure size 432x288 with 1 Axes>"
      ]
     },
     "metadata": {
      "needs_background": "light"
     },
     "output_type": "display_data"
    }
   ],
   "source": [
    "sns.scatterplot(y_test, y_pred, alpha = 0.5)"
   ]
  }
 ],
 "metadata": {
  "interpreter": {
   "hash": "2647ea34e536f865ab67ff9ddee7fd78773d956cec0cab53c79b32cd10da5d83"
  },
  "kernelspec": {
   "display_name": "Python 3.9.6 64-bit",
   "language": "python",
   "name": "python3"
  },
  "language_info": {
   "codemirror_mode": {
    "name": "ipython",
    "version": 3
   },
   "file_extension": ".py",
   "mimetype": "text/x-python",
   "name": "python",
   "nbconvert_exporter": "python",
   "pygments_lexer": "ipython3",
   "version": "3.7.4"
  },
  "orig_nbformat": 4
 },
 "nbformat": 4,
 "nbformat_minor": 2
}
